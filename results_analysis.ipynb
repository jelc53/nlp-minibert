{
 "cells": [
  {
   "cell_type": "markdown",
   "id": "5accb6ee",
   "metadata": {},
   "source": [
    "# SST"
   ]
  },
  {
   "cell_type": "code",
   "execution_count": 1,
   "id": "306f9f05",
   "metadata": {},
   "outputs": [],
   "source": [
    "import pandas as pd\n",
    "import numpy as np\n",
    "\n",
    "import matplotlib.pyplot as plt"
   ]
  },
  {
   "cell_type": "code",
   "execution_count": 2,
   "id": "eee0b19a",
   "metadata": {},
   "outputs": [],
   "source": [
    "from sklearn.metrics import classification_report"
   ]
  },
  {
   "cell_type": "code",
   "execution_count": 4,
   "id": "fc6b2780",
   "metadata": {},
   "outputs": [],
   "source": [
    "sst_train = pd.read_csv('data/ids-sst-train.csv', sep='\\t', index_col=False)"
   ]
  },
  {
   "cell_type": "code",
   "execution_count": 5,
   "id": "9abf486a",
   "metadata": {},
   "outputs": [
    {
     "data": {
      "text/plain": [
       "3    27.176966\n",
       "1    25.959738\n",
       "2    19.007491\n",
       "4    15.074906\n",
       "0    12.780899\n",
       "Name: sentiment, dtype: float64"
      ]
     },
     "execution_count": 5,
     "metadata": {},
     "output_type": "execute_result"
    }
   ],
   "source": [
    "100*sst_train['sentiment'].value_counts() / len(sst_train)"
   ]
  },
  {
   "cell_type": "code",
   "execution_count": 7,
   "id": "fb0d2fda",
   "metadata": {},
   "outputs": [],
   "source": [
    "sst_val = pd.read_csv('data/ids-sst-dev.csv', sep='\\t', index_col=False)"
   ]
  },
  {
   "cell_type": "code",
   "execution_count": 8,
   "id": "fb68b506",
   "metadata": {},
   "outputs": [
    {
     "data": {
      "text/plain": [
       "1    26.248865\n",
       "3    25.340599\n",
       "2    20.799273\n",
       "4    14.986376\n",
       "0    12.624886\n",
       "Name: sentiment, dtype: float64"
      ]
     },
     "execution_count": 8,
     "metadata": {},
     "output_type": "execute_result"
    }
   ],
   "source": [
    "100*sst_val['sentiment'].value_counts() / len(sst_val)"
   ]
  },
  {
   "cell_type": "markdown",
   "id": "f8d1ce27",
   "metadata": {},
   "source": [
    "Takeaways:\n",
    " - The outer sentiment classes are least frequent. Class 0 occurs around 12.7% of the time, class 4 occurs around 15.0% of the time\n",
    " - The middle classes, especially class 1 and 3, are most frequent. Hypothetically, these classes are most difficult to predict, as they are somewhat negative and somewhat positive (no extremely clear sentiment connotation in the text)."
   ]
  },
  {
   "cell_type": "code",
   "execution_count": 9,
   "id": "d4295ede",
   "metadata": {},
   "outputs": [],
   "source": [
    "sst_val_pred = pd.read_csv('predictions/sst-dev-output.csv')"
   ]
  },
  {
   "cell_type": "code",
   "execution_count": 10,
   "id": "e35c65eb",
   "metadata": {},
   "outputs": [
    {
     "data": {
      "text/plain": [
       "id \\t Predicted_Sentiment     4\n",
       "Name: a7d575c9ed86ea9633660c67e , dtype: int64"
      ]
     },
     "execution_count": 10,
     "metadata": {},
     "output_type": "execute_result"
    }
   ],
   "source": [
    "sst_val_pred.iloc[0]"
   ]
  },
  {
   "cell_type": "code",
   "execution_count": 11,
   "id": "f354c919",
   "metadata": {},
   "outputs": [
    {
     "data": {
      "text/plain": [
       "\" It 's a lovely film with lovely performances by Buy and Accorsi .\""
      ]
     },
     "execution_count": 11,
     "metadata": {},
     "output_type": "execute_result"
    }
   ],
   "source": [
    "sst_val.iloc[0,2]"
   ]
  },
  {
   "cell_type": "markdown",
   "id": "4f87143e",
   "metadata": {},
   "source": [
    "Difficult to handle middle cases. See above example; lovely performance, lovely film. We predict most positive sentiment (4), but label is 3. This makes it difficult. Our predictions are balanced, but middle cases are very difficult (see e.g., recall group with label 2)."
   ]
  },
  {
   "cell_type": "code",
   "execution_count": 12,
   "id": "39861e31",
   "metadata": {},
   "outputs": [],
   "source": [
    "y_pred = sst_val_pred['id \\t Predicted_Sentiment '].to_numpy()\n",
    "y = sst_val['sentiment'].to_numpy()"
   ]
  },
  {
   "cell_type": "code",
   "execution_count": 13,
   "id": "c4524c8f",
   "metadata": {},
   "outputs": [
    {
     "data": {
      "text/plain": [
       "array([False, False,  True, ...,  True, False,  True])"
      ]
     },
     "execution_count": 13,
     "metadata": {},
     "output_type": "execute_result"
    }
   ],
   "source": [
    "y == y_pred"
   ]
  },
  {
   "cell_type": "code",
   "execution_count": 14,
   "id": "b25ad282",
   "metadata": {},
   "outputs": [
    {
     "name": "stdout",
     "output_type": "stream",
     "text": [
      "              precision    recall  f1-score   support\n",
      "\n",
      "           0       0.57      0.27      0.36       139\n",
      "           1       0.51      0.69      0.58       289\n",
      "           2       0.38      0.20      0.26       229\n",
      "           3       0.48      0.79      0.60       279\n",
      "           4       0.74      0.30      0.43       165\n",
      "\n",
      "    accuracy                           0.50      1101\n",
      "   macro avg       0.53      0.45      0.45      1101\n",
      "weighted avg       0.52      0.50      0.47      1101\n",
      "\n"
     ]
    }
   ],
   "source": [
    "print(classification_report(y, y_pred))"
   ]
  },
  {
   "cell_type": "code",
   "execution_count": 15,
   "id": "b8e0a3f3",
   "metadata": {},
   "outputs": [
    {
     "name": "stdout",
     "output_type": "stream",
     "text": [
      " It 's a lovely film with lovely performances by Buy and Accorsi .\n"
     ]
    }
   ],
   "source": [
    "for i in range(len(sst_val)):\n",
    "    if sst_val.iloc[i, 3] == 3:\n",
    "        print(sst_val.iloc[i,2])\n",
    "        break"
   ]
  },
  {
   "cell_type": "markdown",
   "id": "2a651c5d",
   "metadata": {},
   "source": [
    "# Sentence Pairs"
   ]
  },
  {
   "cell_type": "markdown",
   "id": "4406cf4f",
   "metadata": {},
   "source": [
    "Comment on small data STS, huge data Paraphrase.\n",
    "\n",
    " - Fractions of labels for Paraphrase\n",
    " - Fractions of labels for STS\n",
    " - Distribution of STS\n",
    " - This distribution does not necessarily align with the distribution that will arise due to cosine similarity. Makes it difficult\n",
    " - But a lot of similarity between paraphrase and STS. Give example sentences that are similar. Definitely harnessing power of using both alongside each other or using all paraphrase data at once."
   ]
  },
  {
   "cell_type": "markdown",
   "id": "e19bd002",
   "metadata": {},
   "source": [
    "## Paraphrase Data"
   ]
  },
  {
   "cell_type": "code",
   "execution_count": 17,
   "id": "a775ce34",
   "metadata": {},
   "outputs": [],
   "source": [
    "para_train = pd.read_csv('data/quora-train.csv', sep='\\t')"
   ]
  },
  {
   "cell_type": "code",
   "execution_count": 18,
   "id": "bf8724e0",
   "metadata": {},
   "outputs": [
    {
     "data": {
      "text/plain": [
       "0.0    63.053863\n",
       "1.0    36.940483\n",
       "Name: is_duplicate, dtype: float64"
      ]
     },
     "execution_count": 18,
     "metadata": {},
     "output_type": "execute_result"
    }
   ],
   "source": [
    "100*para_train['is_duplicate'].value_counts() / len(para_train)"
   ]
  },
  {
   "cell_type": "code",
   "execution_count": 20,
   "id": "33155539",
   "metadata": {},
   "outputs": [],
   "source": [
    "para_dev = pd.read_csv('data/quora-dev.csv', sep='\\t')"
   ]
  },
  {
   "cell_type": "code",
   "execution_count": 21,
   "id": "f75d8b35",
   "metadata": {},
   "outputs": [
    {
     "data": {
      "text/plain": [
       "0.0    62.466607\n",
       "1.0    37.523499\n",
       "Name: is_duplicate, dtype: float64"
      ]
     },
     "execution_count": 21,
     "metadata": {},
     "output_type": "execute_result"
    }
   ],
   "source": [
    "100*para_dev['is_duplicate'].value_counts() / len(para_dev)"
   ]
  },
  {
   "cell_type": "markdown",
   "id": "f8241ee0",
   "metadata": {},
   "source": [
    "Train and dev sets are nicely balanced, around 63% of sentence pairs belong to non-paraphrases. "
   ]
  },
  {
   "cell_type": "code",
   "execution_count": 22,
   "id": "398bb105",
   "metadata": {},
   "outputs": [],
   "source": [
    "para_pred_dev = pd.read_csv('predictions/para-dev-output.csv')"
   ]
  },
  {
   "cell_type": "code",
   "execution_count": 23,
   "id": "fbf1e374",
   "metadata": {},
   "outputs": [],
   "source": [
    "para_pred_dev.columns = ['pred']"
   ]
  },
  {
   "cell_type": "code",
   "execution_count": 24,
   "id": "c161d84d",
   "metadata": {},
   "outputs": [
    {
     "data": {
      "text/plain": [
       "pred\n",
       "0.0     60.909361\n",
       "1.0     39.090639\n",
       "dtype: float64"
      ]
     },
     "execution_count": 24,
     "metadata": {},
     "output_type": "execute_result"
    }
   ],
   "source": [
    "100*para_pred_dev.value_counts() / len(para_pred_dev)"
   ]
  },
  {
   "cell_type": "markdown",
   "id": "46108b98",
   "metadata": {},
   "source": [
    "Prediction counts are also nicely balanced."
   ]
  },
  {
   "cell_type": "code",
   "execution_count": 25,
   "id": "21d10c51",
   "metadata": {},
   "outputs": [
    {
     "name": "stdout",
     "output_type": "stream",
     "text": [
      "2575\n",
      "14220\n"
     ]
    }
   ],
   "source": [
    "for i in range(len(para_dev)):\n",
    "    id_ = para_dev.iloc[i,1]\n",
    "    if (id_ + ' ') not in para_pred_dev.index:\n",
    "        print(i)"
   ]
  },
  {
   "cell_type": "code",
   "execution_count": 26,
   "id": "7baf50bb",
   "metadata": {},
   "outputs": [],
   "source": [
    "para_dev = para_dev.drop([2575, 14220])"
   ]
  },
  {
   "cell_type": "code",
   "execution_count": 27,
   "id": "627d1912",
   "metadata": {},
   "outputs": [],
   "source": [
    "y_pred = para_pred_dev['pred'].to_numpy()\n",
    "y = para_dev['is_duplicate'].to_numpy()"
   ]
  },
  {
   "cell_type": "code",
   "execution_count": 28,
   "id": "28ac8665",
   "metadata": {},
   "outputs": [
    {
     "name": "stdout",
     "output_type": "stream",
     "text": [
      "              precision    recall  f1-score   support\n",
      "\n",
      "         0.0       0.90      0.88      0.89     12627\n",
      "         1.0       0.81      0.84      0.83      7585\n",
      "\n",
      "    accuracy                           0.87     20212\n",
      "   macro avg       0.86      0.86      0.86     20212\n",
      "weighted avg       0.87      0.87      0.87     20212\n",
      "\n"
     ]
    }
   ],
   "source": [
    "print(classification_report(y, y_pred))"
   ]
  },
  {
   "cell_type": "markdown",
   "id": "53daf1ed",
   "metadata": {},
   "source": [
    "Our method finds it slightly more difficult to predict true paraphrases. It does well on the majority class (i.e., non-paraphrase texts), but achieves lower precision and recall on the paraphrases."
   ]
  },
  {
   "cell_type": "markdown",
   "id": "17d2a01e",
   "metadata": {},
   "source": [
    "## STS Data"
   ]
  },
  {
   "cell_type": "code",
   "execution_count": 29,
   "id": "900da3c8",
   "metadata": {},
   "outputs": [],
   "source": [
    "sts_train = pd.read_csv('data/sts-train.csv', sep='\\t')"
   ]
  },
  {
   "cell_type": "code",
   "execution_count": 30,
   "id": "b75b054a",
   "metadata": {},
   "outputs": [],
   "source": [
    "sts_dev = pd.read_csv('data/sts-dev.csv', sep='\\t')"
   ]
  },
  {
   "cell_type": "code",
   "execution_count": 64,
   "id": "f50b4fec",
   "metadata": {},
   "outputs": [
    {
     "data": {
      "image/png": "[encoded data removed]",
      "text/plain": [
       "<Figure size 432x288 with 1 Axes>"
      ]
     },
     "metadata": {
      "needs_background": "light"
     },
     "output_type": "display_data"
    }
   ],
   "source": [
    "plt.figure(0)\n",
    "plt.hist(sts_train['similarity'], bins=20)\n",
    "plt.xlabel('Similarity Score')\n",
    "plt.ylabel('Frequency')\n",
    "plt.xlim((-0.2,5.2))\n",
    "plt.savefig('true_sts.png')"
   ]
  },
  {
   "cell_type": "code",
   "execution_count": 63,
   "id": "66abd85e",
   "metadata": {},
   "outputs": [
    {
     "data": {
      "image/png": "[encoded data removed]",
      "text/plain": [
       "<Figure size 432x288 with 1 Axes>"
      ]
     },
     "metadata": {
      "needs_background": "light"
     },
     "output_type": "display_data"
    }
   ],
   "source": [
    "plt.figure(0)\n",
    "plt.hist(sts_dev['similarity'], bins=10)\n",
    "plt.xlabel('Similarity Score')\n",
    "plt.ylabel('Frequency')\n",
    "plt.xlim((-0.2,5.2))\n",
    "plt.savefig('true_sts.png')"
   ]
  },
  {
   "cell_type": "code",
   "execution_count": 35,
   "id": "f219a041",
   "metadata": {},
   "outputs": [
    {
     "data": {
      "text/plain": [
       "2.613143114685166"
      ]
     },
     "execution_count": 35,
     "metadata": {},
     "output_type": "execute_result"
    }
   ],
   "source": [
    "np.mean(sts_train['similarity'])"
   ]
  },
  {
   "cell_type": "code",
   "execution_count": 36,
   "id": "5ec7f9d4",
   "metadata": {},
   "outputs": [
    {
     "data": {
      "text/plain": [
       "2.7231399510750607"
      ]
     },
     "execution_count": 36,
     "metadata": {},
     "output_type": "execute_result"
    }
   ],
   "source": [
    "np.mean(sts_dev['similarity'])"
   ]
  },
  {
   "cell_type": "code",
   "execution_count": 37,
   "id": "6c677b0b",
   "metadata": {},
   "outputs": [
    {
     "data": {
      "text/plain": [
       "1.4876745541785574"
      ]
     },
     "execution_count": 37,
     "metadata": {},
     "output_type": "execute_result"
    }
   ],
   "source": [
    "np.std(sts_train['similarity'])"
   ]
  },
  {
   "cell_type": "code",
   "execution_count": 38,
   "id": "9f990adc",
   "metadata": {},
   "outputs": [
    {
     "data": {
      "text/plain": [
       "1.4754419855272725"
      ]
     },
     "execution_count": 38,
     "metadata": {},
     "output_type": "execute_result"
    }
   ],
   "source": [
    "np.std(sts_dev['similarity'])"
   ]
  },
  {
   "cell_type": "markdown",
   "id": "bd265012",
   "metadata": {},
   "source": [
    "The train and dev set seem to be nicely balanced, i.e., their distributions look really alike. However, it is clear from the histograms that the distributions are a bit ill-defined. That is, the distributions seem to be multimodal around the whole integer values 0 to 5. This may be an issue of data labeling, e.g., there is some bias towards labeling two sentences' similarity score using a whole number. This can obviously be difficult for a model to predict. Ideally, especially using some kind of cosine similarity score, the distribution would be more smooth or, as we use MSE loss for training, close to Gaussian. This is definitely not the case, which, in addition to the low number of data points, makes this STS task difficult."
   ]
  },
  {
   "cell_type": "code",
   "execution_count": 40,
   "id": "56147d73",
   "metadata": {},
   "outputs": [],
   "source": [
    "sts_pred_dev = pd.read_csv('predictions/sts-dev-output.csv')"
   ]
  },
  {
   "cell_type": "code",
   "execution_count": 41,
   "id": "c1e632c7",
   "metadata": {},
   "outputs": [],
   "source": [
    "sts_pred_dev.columns = ['pred']"
   ]
  },
  {
   "cell_type": "code",
   "execution_count": 62,
   "id": "266cda9d",
   "metadata": {},
   "outputs": [
    {
     "data": {
      "image/png": "[encoded data removed]",
      "text/plain": [
       "<Figure size 432x288 with 1 Axes>"
      ]
     },
     "metadata": {
      "needs_background": "light"
     },
     "output_type": "display_data"
    }
   ],
   "source": [
    "plt.hist(sts_pred_dev['pred']*5.4, bins=20)\n",
    "plt.xlabel('Similarity Score')\n",
    "plt.ylabel('Frequency')\n",
    "plt.xlim((-0.2, 5.2))\n",
    "plt.savefig('pred_sts.png')"
   ]
  },
  {
   "cell_type": "markdown",
   "id": "f653237d",
   "metadata": {},
   "source": [
    "Clear to see that predicted distribution is totally off wrt what the actual distribution is. It is heavily skewed towards large positive numbers. This makes for a poor fit with the actual data. Correlation may be good, but the actual values do not reflect the true distribution. This figure also explains the phenomenon that scaling labels to the -1 to 1 range does not lead to good results; the output is almost never lower than 0, which makes a -1 to 1 range extremely poor."
   ]
  },
  {
   "cell_type": "markdown",
   "id": "34056676",
   "metadata": {},
   "source": [
    "## Combined Para and STS"
   ]
  },
  {
   "cell_type": "code",
   "execution_count": 136,
   "id": "49839a0e",
   "metadata": {},
   "outputs": [
    {
     "name": "stdout",
     "output_type": "stream",
     "text": [
      "The STS dataset has 6040 entries\n",
      "The Paraphrase dataset has 141506 entries\n"
     ]
    }
   ],
   "source": [
    "print(\"The STS dataset has {} entries\".format(len(sts_train)))\n",
    "print(\"The Paraphrase dataset has {} entries\".format(len(para_train)))"
   ]
  },
  {
   "cell_type": "markdown",
   "id": "fa7d67dd",
   "metadata": {},
   "source": [
    "We want to make use of the paraphrase data and, if possible, use it to better predict STS. Why would this work? Well, both datasets consist of sentence pairs and aim at evaluating the similarity of these sentences. This similarity in tasks, although not 1-on-1 related, could mean that using paraphrase data could boost STS performance. "
   ]
  },
  {
   "cell_type": "code",
   "execution_count": 137,
   "id": "32c7c654",
   "metadata": {},
   "outputs": [
    {
     "data": {
      "text/html": [
       "<div>\n",
       "<style scoped>\n",
       "    .dataframe tbody tr th:only-of-type {\n",
       "        vertical-align: middle;\n",
       "    }\n",
       "\n",
       "    .dataframe tbody tr th {\n",
       "        vertical-align: top;\n",
       "    }\n",
       "\n",
       "    .dataframe thead th {\n",
       "        text-align: right;\n",
       "    }\n",
       "</style>\n",
       "<table border=\"1\" class=\"dataframe\">\n",
       "  <thead>\n",
       "    <tr style=\"text-align: right;\">\n",
       "      <th></th>\n",
       "      <th>Unnamed: 0</th>\n",
       "      <th>id</th>\n",
       "      <th>sentence1</th>\n",
       "      <th>sentence2</th>\n",
       "      <th>similarity</th>\n",
       "    </tr>\n",
       "  </thead>\n",
       "  <tbody>\n",
       "    <tr>\n",
       "      <th>0</th>\n",
       "      <td>8615</td>\n",
       "      <td>6d0ec4e8a34ac432e1c1699a0</td>\n",
       "      <td>13 killed in Afgan terror attack</td>\n",
       "      <td>6 killed in Afghan capital mosque attack</td>\n",
       "      <td>2.00</td>\n",
       "    </tr>\n",
       "    <tr>\n",
       "      <th>1</th>\n",
       "      <td>7087</td>\n",
       "      <td>9aaabdce8cfff4c060b6f525c</td>\n",
       "      <td>China to resume US investment talks</td>\n",
       "      <td>China and Taiwan hold historic talks</td>\n",
       "      <td>0.80</td>\n",
       "    </tr>\n",
       "    <tr>\n",
       "      <th>2</th>\n",
       "      <td>8201</td>\n",
       "      <td>a70c8ad3f82ac2967f78fe617</td>\n",
       "      <td>But in the first 30 seconds after Young entere...</td>\n",
       "      <td>But in the first 30 seconds of the bout, famil...</td>\n",
       "      <td>4.20</td>\n",
       "    </tr>\n",
       "    <tr>\n",
       "      <th>3</th>\n",
       "      <td>7821</td>\n",
       "      <td>a89ed469c8f2f81313d190e66</td>\n",
       "      <td>A yellow vested person is doing road work.</td>\n",
       "      <td>A person is doing very well on their skateboard.</td>\n",
       "      <td>0.20</td>\n",
       "    </tr>\n",
       "    <tr>\n",
       "      <th>4</th>\n",
       "      <td>201</td>\n",
       "      <td>9ee4d44188c33f4e7d899e690</td>\n",
       "      <td>Someone is slicing tortila's.</td>\n",
       "      <td>Someone is riding a horse.</td>\n",
       "      <td>0.00</td>\n",
       "    </tr>\n",
       "    <tr>\n",
       "      <th>...</th>\n",
       "      <td>...</td>\n",
       "      <td>...</td>\n",
       "      <td>...</td>\n",
       "      <td>...</td>\n",
       "      <td>...</td>\n",
       "    </tr>\n",
       "    <tr>\n",
       "      <th>6035</th>\n",
       "      <td>3407</td>\n",
       "      <td>02aec281e8042cb6ac5234d0e</td>\n",
       "      <td>TVT Records sought $360 million in punitive da...</td>\n",
       "      <td>The damages included $24 million in compensato...</td>\n",
       "      <td>1.25</td>\n",
       "    </tr>\n",
       "    <tr>\n",
       "      <th>6036</th>\n",
       "      <td>705</td>\n",
       "      <td>428993345175717b8e038007c</td>\n",
       "      <td>The woman is thinly slicing a cucumber.</td>\n",
       "      <td>The woman is slicing a tomato.</td>\n",
       "      <td>1.20</td>\n",
       "    </tr>\n",
       "    <tr>\n",
       "      <th>6037</th>\n",
       "      <td>510</td>\n",
       "      <td>627aec89c90cbc047a6000315</td>\n",
       "      <td>A girl is playing a guitar.</td>\n",
       "      <td>A man is playing a guitar.</td>\n",
       "      <td>2.80</td>\n",
       "    </tr>\n",
       "    <tr>\n",
       "      <th>6038</th>\n",
       "      <td>6349</td>\n",
       "      <td>71e5c54b6506f84a911731c93</td>\n",
       "      <td>A basketball player makes the 5th rebound of t...</td>\n",
       "      <td>A tennis player in the middle of a game.</td>\n",
       "      <td>1.40</td>\n",
       "    </tr>\n",
       "    <tr>\n",
       "      <th>6039</th>\n",
       "      <td>6442</td>\n",
       "      <td>de77921c983e1cb69b1864ef9</td>\n",
       "      <td>Good cheddar has little chunks of calcium lact...</td>\n",
       "      <td>I have two suspicions: One, you're undercookin...</td>\n",
       "      <td>0.60</td>\n",
       "    </tr>\n",
       "  </tbody>\n",
       "</table>\n",
       "<p>6040 rows × 5 columns</p>\n",
       "</div>"
      ],
      "text/plain": [
       "      Unnamed: 0                         id  \\\n",
       "0           8615  6d0ec4e8a34ac432e1c1699a0   \n",
       "1           7087  9aaabdce8cfff4c060b6f525c   \n",
       "2           8201  a70c8ad3f82ac2967f78fe617   \n",
       "3           7821  a89ed469c8f2f81313d190e66   \n",
       "4            201  9ee4d44188c33f4e7d899e690   \n",
       "...          ...                        ...   \n",
       "6035        3407  02aec281e8042cb6ac5234d0e   \n",
       "6036         705  428993345175717b8e038007c   \n",
       "6037         510  627aec89c90cbc047a6000315   \n",
       "6038        6349  71e5c54b6506f84a911731c93   \n",
       "6039        6442  de77921c983e1cb69b1864ef9   \n",
       "\n",
       "                                              sentence1  \\\n",
       "0                      13 killed in Afgan terror attack   \n",
       "1                   China to resume US investment talks   \n",
       "2     But in the first 30 seconds after Young entere...   \n",
       "3            A yellow vested person is doing road work.   \n",
       "4                         Someone is slicing tortila's.   \n",
       "...                                                 ...   \n",
       "6035  TVT Records sought $360 million in punitive da...   \n",
       "6036            The woman is thinly slicing a cucumber.   \n",
       "6037                        A girl is playing a guitar.   \n",
       "6038  A basketball player makes the 5th rebound of t...   \n",
       "6039  Good cheddar has little chunks of calcium lact...   \n",
       "\n",
       "                                              sentence2  similarity  \n",
       "0              6 killed in Afghan capital mosque attack        2.00  \n",
       "1                  China and Taiwan hold historic talks        0.80  \n",
       "2     But in the first 30 seconds of the bout, famil...        4.20  \n",
       "3      A person is doing very well on their skateboard.        0.20  \n",
       "4                            Someone is riding a horse.        0.00  \n",
       "...                                                 ...         ...  \n",
       "6035  The damages included $24 million in compensato...        1.25  \n",
       "6036                     The woman is slicing a tomato.        1.20  \n",
       "6037                         A man is playing a guitar.        2.80  \n",
       "6038           A tennis player in the middle of a game.        1.40  \n",
       "6039  I have two suspicions: One, you're undercookin...        0.60  \n",
       "\n",
       "[6040 rows x 5 columns]"
      ]
     },
     "execution_count": 137,
     "metadata": {},
     "output_type": "execute_result"
    }
   ],
   "source": [
    "sts_train"
   ]
  },
  {
   "cell_type": "code",
   "execution_count": 148,
   "id": "e3ea09a7",
   "metadata": {},
   "outputs": [
    {
     "name": "stdout",
     "output_type": "stream",
     "text": [
      "Unnamed: 0                                             2366\n",
      "id                                ecac2f49e4d3afd484df62921\n",
      "sentence1           How do you know what's right and wrong?\n",
      "sentence2     How do you know which story is the right one?\n",
      "similarity                                              2.2\n",
      "Name: 443, dtype: object\n"
     ]
    }
   ],
   "source": [
    "for i in range(len(sts_train)):\n",
    "    if 'right and wrong?' in sts_train['sentence1'].iloc[i]:\n",
    "        print(sts_train.iloc[i,:])"
   ]
  },
  {
   "cell_type": "code",
   "execution_count": 146,
   "id": "bacc7527",
   "metadata": {},
   "outputs": [
    {
     "name": "stdout",
     "output_type": "stream",
     "text": [
      "Unnamed: 0                                         27066\n",
      "id                             9fd3e0aa9ed2d3d520d2b84d3\n",
      "sentence1       How are right and wrong defined? And why\n",
      "sentence2               What is right and what is wrong?\n",
      "is_duplicate                                         1.0\n",
      "Name: 19750, dtype: object\n"
     ]
    },
    {
     "ename": "TypeError",
     "evalue": "argument of type 'float' is not iterable",
     "output_type": "error",
     "traceback": [
      "\u001b[0;31m---------------------------------------------------------------------------\u001b[0m",
      "\u001b[0;31mTypeError\u001b[0m                                 Traceback (most recent call last)",
      "\u001b[0;32m/var/folders/8p/b1d4x_8j55q_xbvpbytzq8k80000gn/T/ipykernel_10338/747616580.py\u001b[0m in \u001b[0;36m<module>\u001b[0;34m\u001b[0m\n\u001b[1;32m      1\u001b[0m \u001b[0;32mfor\u001b[0m \u001b[0mi\u001b[0m \u001b[0;32min\u001b[0m \u001b[0mrange\u001b[0m\u001b[0;34m(\u001b[0m\u001b[0mlen\u001b[0m\u001b[0;34m(\u001b[0m\u001b[0mpara_train\u001b[0m\u001b[0;34m)\u001b[0m\u001b[0;34m)\u001b[0m\u001b[0;34m:\u001b[0m\u001b[0;34m\u001b[0m\u001b[0;34m\u001b[0m\u001b[0m\n\u001b[0;32m----> 2\u001b[0;31m     \u001b[0;32mif\u001b[0m \u001b[0;34m'right and wrong'\u001b[0m \u001b[0;32min\u001b[0m \u001b[0mpara_train\u001b[0m\u001b[0;34m.\u001b[0m\u001b[0miloc\u001b[0m\u001b[0;34m[\u001b[0m\u001b[0mi\u001b[0m\u001b[0;34m,\u001b[0m \u001b[0;36m2\u001b[0m\u001b[0;34m]\u001b[0m\u001b[0;34m:\u001b[0m\u001b[0;34m\u001b[0m\u001b[0;34m\u001b[0m\u001b[0m\n\u001b[0m\u001b[1;32m      3\u001b[0m         \u001b[0mprint\u001b[0m\u001b[0;34m(\u001b[0m\u001b[0mpara_train\u001b[0m\u001b[0;34m.\u001b[0m\u001b[0miloc\u001b[0m\u001b[0;34m[\u001b[0m\u001b[0mi\u001b[0m\u001b[0;34m,\u001b[0m\u001b[0;34m:\u001b[0m\u001b[0;34m]\u001b[0m\u001b[0;34m)\u001b[0m\u001b[0;34m\u001b[0m\u001b[0;34m\u001b[0m\u001b[0m\n",
      "\u001b[0;31mTypeError\u001b[0m: argument of type 'float' is not iterable"
     ]
    }
   ],
   "source": [
    "for i in range(len(para_train)):\n",
    "    if 'right and wrong' in para_train.iloc[i, 2]:\n",
    "        print(para_train.iloc[i,:])"
   ]
  },
  {
   "cell_type": "markdown",
   "id": "bbbfb8eb",
   "metadata": {},
   "source": [
    "There's definitely a lot of similarity in the two data sets and this makes for our hypothesis that using the paraphrase data can be super helpful for the STS task. In addition, paraphrase data contains mostly questions (Quora questions), which leads to pretty orthogonal text to SST data (mostly things like reviews, more emotive). This leads us to hypothesize that using more paraphrase data will not necessarily be harmful for SST predictions.\n",
    "\n",
    "Also good motive for using separate optimizer steps instead of one big one;\n",
    " - You take more steps, which might be beneficial\n",
    " - The data sets are pretty orthogonal (expected), which makes it not harmful to set separate steps\n",
    " - The losses of the three data sets are not necessarily on the same scale. Doing separate steps may be desirable to keep the influence of the three losses separable. This issue of combining losses on different scales occurs everywhere and is difficult, e.g., think about Douwe Kiela's discussion on multimodal models."
   ]
  }
 ],
 "metadata": {
  "kernelspec": {
   "display_name": "Python 3 (ipykernel)",
   "language": "python",
   "name": "python3"
  },
  "language_info": {
   "codemirror_mode": {
    "name": "ipython",
    "version": 3
   },
   "file_extension": ".py",
   "mimetype": "text/x-python",
   "name": "python",
   "nbconvert_exporter": "python",
   "pygments_lexer": "ipython3",
   "version": "3.9.7"
  }
 },
 "nbformat": 4,
 "nbformat_minor": 5
}
